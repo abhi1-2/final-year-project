{
 "cells": [
  {
   "cell_type": "code",
   "execution_count": 1,
   "metadata": {},
   "outputs": [
    {
     "name": "stdout",
     "output_type": "stream",
     "text": [
      "\n",
      "Item no.: 1 --> Item name = kid faces\n",
      "Evaluating...\n",
      "Starting Download...\n",
      "Image URL: https://cdn1.vectorstock.com/i/1000x1000/31/55/kid-faces-vector-1043155.jpg\n",
      "Completed Image ====> 1. kid-faces-vector-1043155.jpg\n",
      "Image URL: https://i.pinimg.com/originals/82/f6/16/82f616b52c671a605c98d93258a921d3.jpg\n",
      "Completed Image ====> 2. 82f616b52c671a605c98d93258a921d3.jpg\n",
      "Image URL: https://i.pinimg.com/originals/75/71/b1/7571b18e691237eb3a69c550b1b6f26e.jpg\n",
      "Completed Image ====> 3. 7571b18e691237eb3a69c550b1b6f26e.jpg\n",
      "Image URL: https://thehungryjpeg.com/img/products/6bf9dd0cb3c9d228d20dd6ec14ef35c28fed4bf5.jpg\n",
      "Completed Image ====> 4. 6bf9dd0cb3c9d228d20dd6ec14ef35c28fed4bf5.jpg\n",
      "Image URL: http://www.hudsonstreetfamilyphoto.com/wp-content/uploads/2015/01/30-27555-pp_gallery/Robert-Charles-9-1024x684(pp_w619_h413).jpg\n",
      "Completed Image ====> 5. robert-charles-9-1024x684(pp_w619_h413).jpg\n",
      "Image URL: https://i.pinimg.com/originals/96/e5/9d/96e59d5bd9de9a3d5e510289c7fd64c2.jpg\n",
      "Completed Image ====> 6. 96e59d5bd9de9a3d5e510289c7fd64c2.jpg\n",
      "Image URL: https://ak8.picdn.net/shutterstock/videos/8460148/thumb/8.jpg\n",
      "Completed Image ====> 7. 8.jpg\n",
      "Image URL: https://ak1.picdn.net/shutterstock/videos/246391/thumb/1.jpg\n",
      "Completed Image ====> 8. 1.jpg\n",
      "Image URL: https://www.bestfunnies.com/wp-content/uploads/2015/06/Funniest-Kid-Faces-30.jpg\n",
      "Completed Image ====> 9. funniest-kid-faces-30.jpg\n",
      "Image URL: https://www.bestfunnies.com/wp-content/uploads/2015/06/Funniest-Kid-Faces-11-576x500.jpg\n",
      "Completed Image ====> 10. funniest-kid-faces-11-576x500.jpg\n",
      "Image URL: https://www.bestfunnies.com/wp-content/uploads/2015/06/Funniest-Kid-Faces-26.jpg\n",
      "Completed Image ====> 11. funniest-kid-faces-26.jpg\n",
      "Image URL: https://i.ytimg.com/vi/sClsG_ZFRj0/hqdefault.jpg\n",
      "Completed Image ====> 12. hqdefault.jpg\n",
      "Image URL: https://i.pinimg.com/originals/b3/b8/45/b3b845e9fc8ef509cfe24cb70f3a7dea.jpg\n",
      "Completed Image ====> 13. b3b845e9fc8ef509cfe24cb70f3a7dea.jpg\n",
      "Image URL: https://www.bestfunnies.com/wp-content/uploads/2015/06/Funniest-Kid-Faces-16.jpg\n",
      "Completed Image ====> 14. funniest-kid-faces-16.jpg\n",
      "Image URL: https://cdn4.vectorstock.com/i/1000x1000/31/23/kid-faces-vector-3853123.jpg\n",
      "Completed Image ====> 15. kid-faces-vector-3853123.jpg\n",
      "Image URL: https://ak5.picdn.net/shutterstock/videos/625645/thumb/1.jpg\n",
      "Completed Image ====> 16. 1.jpg\n",
      "Image URL: https://familycouplescounselchino.files.wordpress.com/2011/10/3-kid-faces.jpg\n",
      "Completed Image ====> 17. 3-kid-faces.jpg\n",
      "Image URL: https://openclipart.org/download/217102/1428861228.svg\n",
      "Completed Image ====> 18. 1428861228.svg\n",
      "Image URL: https://static7.depositphotos.com/1010304/712/v/950/depositphotos_7121847-stock-illustration-cute-kid-faces.jpg\n",
      "Completed Image ====> 19. depositphotos_7121847-stock-illustration-cute-kid-faces.jpg\n",
      "Image URL: https://previews.123rf.com/images/milo827/milo8271208/milo827120800033/14874601-various-kid-faces-with-different-hair-colors.jpg\n",
      "Completed Image ====> 20. 14874601-various-kid-faces-with-different-hair-colors.jpg\n",
      "Image URL: https://thumbs.dreamstime.com/z/cartoon-faces-kids-set-illustrations-22413507.jpg\n",
      "Completed Image ====> 21. cartoon-faces-kids-set-illustrations-22413507.jpg\n",
      "Image URL: https://i.etsystatic.com/12992899/r/il/f457a4/1195503811/il_570xN.1195503811_tvj0.jpg\n",
      "Completed Image ====> 22. il_570xn.1195503811_tvj0.jpg\n",
      "Image URL: https://previews.123rf.com/images/lyusha/lyusha1112/lyusha111200017/11411170-kid-faces-vector-set-isolated-characters-illustration.jpg\n",
      "Completed Image ====> 23. 11411170-kid-faces-vector-set-isolated-characters-illustration.jpg\n",
      "Image URL: http://1.bp.blogspot.com/-aWc0jDWjOPI/UqJKo2F1b9I/AAAAAAAADYE/R2cETYhLMB0/s1600/395.jpg\n",
      "Completed Image ====> 24. 395.jpg\n",
      "Image URL: https://cmkt-image-prd.global.ssl.fastly.net/0.1.0/ps/18193/670/416/m1/fpnw/wm1/cartoon-boys-faces-vector-.jpg?1368526055&s=f292dced233bc8c40914d7fd76e15adf\n",
      "Completed Image ====> 25. cartoon-boys-faces-vector-.jpg\n",
      "Image URL: https://image.freepik.com/free-vector/watercolor-kid-faces_23-2147531554.jpg\n",
      "Completed Image ====> 26. watercolor-kid-faces_23-2147531554.jpg\n",
      "Image URL: https://ecdn.teacherspayteachers.com/thumbitem/Clipart-Kid-Face-Doodles-1944585-1500873440/original-1944585-1.jpg\n",
      "Completed Image ====> 27. original-1944585-1.jpg\n",
      "Image URL: https://thumbs.dreamstime.com/z/woman-kid-faces-close-up-2-4577921.jpg\n",
      "Completed Image ====> 28. woman-kid-faces-close-up-2-4577921.jpg\n",
      "Image URL: https://cmkt-image-prd.global.ssl.fastly.net/0.1.0/ps/2324460/580/386/m1/fpnw/wm1/cm1-.jpg?1487955383&s=25012d2749d0c68e0df05335fedae338\n",
      "Completed Image ====> 29. cm1-.jpg\n",
      "Image URL: https://fscomps.fotosearch.com/compc/CSP/CSP775/silhouettes-of-kid-faces-clipart__k7755592.jpg\n",
      "Completed Image ====> 30. silhouettes-of-kid-faces-clipart__k7755592.jpg\n",
      "\n",
      "Errors: 0\n",
      "\n"
     ]
    }
   ],
   "source": [
    "from google_images_download import google_images_download   #importing the library\n",
    "\n",
    "response = google_images_download.googleimagesdownload()   #class instantiation\n",
    "\n",
    "arguments = {\"keywords\":\"kid faces\",\"limit\":30,\"print_urls\":True}   #creating list of arguments\n",
    "paths = response.download(arguments)   #passing the arguments to the function\n",
    "#print(paths) \n",
    "import urllib.error\n",
    "import urllib.request\n",
    "#for path in paths:\n",
    "    #print(path)\n",
    "    #data = urllib.request.urlretrieve(src,path)"
   ]
  },
  {
   "cell_type": "code",
   "execution_count": null,
   "metadata": {
    "collapsed": true
   },
   "outputs": [],
   "source": []
  }
 ],
 "metadata": {
  "kernelspec": {
   "display_name": "Python 3",
   "language": "python",
   "name": "python3"
  },
  "language_info": {
   "codemirror_mode": {
    "name": "ipython",
    "version": 3
   },
   "file_extension": ".py",
   "mimetype": "text/x-python",
   "name": "python",
   "nbconvert_exporter": "python",
   "pygments_lexer": "ipython3",
   "version": "3.6.1"
  }
 },
 "nbformat": 4,
 "nbformat_minor": 2
}

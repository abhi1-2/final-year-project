{
 "cells": [
  {
   "cell_type": "code",
   "execution_count": 1,
   "metadata": {},
   "outputs": [
    {
     "name": "stderr",
     "output_type": "stream",
     "text": [
      "/Users/avisheksarkar/anaconda/lib/python3.6/site-packages/h5py/__init__.py:34: FutureWarning: Conversion of the second argument of issubdtype from `float` to `np.floating` is deprecated. In future, it will be treated as `np.float64 == np.dtype(float).type`.\n",
      "  from ._conv import register_converters as _register_converters\n"
     ]
    },
    {
     "ename": "NameError",
     "evalue": "name 'cv' is not defined",
     "output_type": "error",
     "traceback": [
      "\u001b[0;31m---------------------------------------------------------------------------\u001b[0m",
      "\u001b[0;31mNameError\u001b[0m                                 Traceback (most recent call last)",
      "\u001b[0;32m<ipython-input-1-883d2e4ac3e4>\u001b[0m in \u001b[0;36m<module>\u001b[0;34m()\u001b[0m\n\u001b[1;32m     25\u001b[0m \u001b[0;31m#gray = cv2.cvtColor(img, cv2.COLOR_BGR2GRAY)\u001b[0m\u001b[0;34m\u001b[0m\u001b[0;34m\u001b[0m\u001b[0m\n\u001b[1;32m     26\u001b[0m \u001b[0;31m#detected_faces = face_detector(gray, 1)\u001b[0m\u001b[0;34m\u001b[0m\u001b[0;34m\u001b[0m\u001b[0m\n\u001b[0;32m---> 27\u001b[0;31m \u001b[0mcap\u001b[0m \u001b[0;34m=\u001b[0m \u001b[0mcv\u001b[0m\u001b[0;34m.\u001b[0m\u001b[0mVideoCapture\u001b[0m\u001b[0;34m(\u001b[0m\u001b[0;36m0\u001b[0m\u001b[0;34m)\u001b[0m\u001b[0;34m\u001b[0m\u001b[0m\n\u001b[0m\u001b[1;32m     28\u001b[0m \u001b[0mret\u001b[0m\u001b[0;34m,\u001b[0m\u001b[0mframe\u001b[0m\u001b[0;34m=\u001b[0m\u001b[0mcap\u001b[0m\u001b[0;34m.\u001b[0m\u001b[0mread\u001b[0m\u001b[0;34m(\u001b[0m\u001b[0;34m)\u001b[0m\u001b[0;34m\u001b[0m\u001b[0m\n\u001b[1;32m     29\u001b[0m \u001b[0;32mwhile\u001b[0m \u001b[0mret\u001b[0m\u001b[0;34m:\u001b[0m\u001b[0;34m\u001b[0m\u001b[0m\n",
      "\u001b[0;31mNameError\u001b[0m: name 'cv' is not defined"
     ]
    }
   ],
   "source": [
    "import dlib\n",
    "import glob\n",
    "import json\n",
    "import os\n",
    "from skimage import io\n",
    "import sys\n",
    "import matplotlib.pyplot as plt\n",
    "import numpy as np\n",
    "import cv2 as cv\n",
    "import tensorflow as tf\n",
    "\n",
    "import imutils\n",
    "from imutils.face_utils import FaceAligner\n",
    "from imutils.face_utils import rect_to_bb\n",
    "from imutils import face_utils\n",
    "#image      = sys.argv[1]\n",
    "#img = cv2.imread(image)\n",
    "pos_db=['1','2','3']\n",
    "alpha=['male','female','child']\n",
    "face_detector = dlib.get_frontal_face_detector()\n",
    "predictor_model=\"/Users/avisheksarkar/Downloads/shape_predictor_68_face_landmarks.dat\"\n",
    "predictor = dlib.shape_predictor(predictor_model)\n",
    "facerec=dlib.face_recognition_model_v1('/Users/avisheksarkar/Downloads/dlib_face_recognition_resnet_model_v1.dat')\n",
    "#fa=FaceAligner(predictor, desiredFaceWidth=256)\n",
    "#gray = cv2.cvtColor(img, cv2.COLOR_BGR2GRAY)\n",
    "#detected_faces = face_detector(gray, 1)\n",
    "cap = cv.VideoCapture(0)\n",
    "ret,frame=cap.read()\n",
    "while ret:\n",
    "    ret, frame = cap.read()\n",
    "    gray = cv.cvtColor(frame, cv.COLOR_BGR2GRAY)\n",
    "        #gray = cv.cvtColor(frame, cv.COLOR_BGR2GRAY)\n",
    "    detected_faces = face_detector(gray, 1)\n",
    "    \n",
    "    if(detected_faces):\n",
    "        for i,face_rect in enumerate(detected_faces):\n",
    "                shape=predictor(gray,face_rect)\n",
    "                face_descriptor = facerec.compute_face_descriptor(img,shape)\n",
    "                face_descriptor=np.array(face_descriptor)\n",
    "                face_descriptor=face_descriptor.reshape((-1,1*128)).astype(np.float32)\n",
    "                saver = tf.train.import_meta_graph('models/test_model.ckpt.meta')\n",
    "                graph = tf.get_default_graph()   \n",
    "                with tf.Session(graph=graph) as session:\n",
    "                    saver.restore(session,'models/test_model.ckpt')\n",
    "                    weights_l1=tf.trainable_variables()[0]\n",
    "                    biases_l1=tf.trainable_variables()[1]\n",
    "                    weights_l2=tf.trainable_variables()[2]\n",
    "                    biases_l2=tf.trainable_variables()[3]\n",
    "                    weights_l3=tf.trainable_variables()[4]\n",
    "                    biases_l3=tf.trainable_variables()[5] \n",
    "                    logits_1=tf.matmul(face_descriptor,weights_l1)+biases_l1\n",
    "                    logits_1=tf.nn.relu(logits_1)\n",
    "                    keep_prob1=tf.placeholder(tf.float32)\n",
    "                    drop_out=tf.nn.dropout(logits_1,keep_prob1)\n",
    "                    logits_2=tf.matmul(logits_1,weights_l2)+biases_l2\n",
    "                    # keep_prob=tf.placeholder(tf.float32)\n",
    "                    #drop_out=tf.nn.dropout(logits_2,keep_prob)\n",
    "                    logits_2=tf.nn.relu(logits_2)\n",
    "                    logits_3=tf.matmul(logits_2,weights_l3)+biases_l3 \n",
    "                    output=tf.nn.softmax(logits_3).eval()\n",
    "                    index=np.argmax(output)\n",
    "                    print(pos_db[index])\n",
    "\n",
    "\n",
    "    else:\n",
    "        print(\"face not found\")\n"
   ]
  },
  {
   "cell_type": "code",
   "execution_count": null,
   "metadata": {
    "collapsed": true
   },
   "outputs": [],
   "source": []
  }
 ],
 "metadata": {
  "kernelspec": {
   "display_name": "Python 3",
   "language": "python",
   "name": "python3"
  },
  "language_info": {
   "codemirror_mode": {
    "name": "ipython",
    "version": 3
   },
   "file_extension": ".py",
   "mimetype": "text/x-python",
   "name": "python",
   "nbconvert_exporter": "python",
   "pygments_lexer": "ipython3",
   "version": "3.6.1"
  }
 },
 "nbformat": 4,
 "nbformat_minor": 2
}

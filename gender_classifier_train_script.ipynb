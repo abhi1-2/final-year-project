{
 "cells": [
  {
   "cell_type": "code",
   "execution_count": 1,
   "metadata": {},
   "outputs": [
    {
     "name": "stdout",
     "output_type": "stream",
     "text": [
      "ksp_adult_male\n",
      "ksp_adult_woman\n",
      "(78, 128)\n",
      "(78, 2)\n"
     ]
    }
   ],
   "source": [
    "import os\n",
    "import numpy as np\n",
    "import cv2 as cv\n",
    "import dlib\n",
    "%matplotlib inline\n",
    "import matplotlib.pyplot as plt\n",
    "face_detector = dlib.get_frontal_face_detector()\n",
    "main_path='dataset/gender/'\n",
    "predictor_model=\"shape_predictor_68_face_landmarks copy.dat\"\n",
    "predictor = dlib.shape_predictor(predictor_model)\n",
    "facerec=dlib.face_recognition_model_v1('dlib_face_recognition_resnet_model_v1.dat')\n",
    "d=os.listdir(main_path)\n",
    "img_array=[]\n",
    "img_labels=[]\n",
    "i=0\n",
    "for i,dirs in enumerate(sorted(d)):\n",
    "    if(dirs.startswith('ksp')):\n",
    "        print(dirs)\n",
    "        for item in (os.listdir(main_path+dirs)):\n",
    "            label=[0,0]\n",
    "            if(item.endswith('.jpg')):\n",
    "                img=cv.imread(main_path+dirs+'/'+item)\n",
    "                gray = cv.cvtColor(img, cv.COLOR_BGR2GRAY)\n",
    "                \n",
    "                face_rect= face_detector(gray, 1)\n",
    "                \n",
    "                \n",
    "                for k,d in enumerate(face_rect):\n",
    "                    \n",
    "                    #x = d.left()\n",
    "                    #y = d.top()\n",
    "                    #w = d.right()-x\n",
    "                    #h = d.bottom()-y\n",
    "                    shape=predictor(gray,d)\n",
    "                    face_descriptor = facerec.compute_face_descriptor(img,shape )\n",
    "                #rect=cv.rectangle(img, (x, y), (x + w, y + h), (0, 255, 0), 2)\n",
    "                #rect = img[y:y+h,x:x+w]\n",
    "                label[i-1]=1\n",
    "                img_array.append(face_descriptor)\n",
    "                img_labels.append(label)\n",
    "                    \n",
    "                    \n",
    "                #face_rect = face_detector(img, 1)\n",
    "\n",
    "img_dataset=np.array(img_array)\n",
    "img_labell=np.array(img_labels)\n",
    "print(img_dataset.shape)\n",
    "print(img_labell.shape)"
   ]
  },
  {
   "cell_type": "code",
   "execution_count": 2,
   "metadata": {},
   "outputs": [
    {
     "data": {
      "text/plain": [
       "array([1, 0])"
      ]
     },
     "execution_count": 2,
     "metadata": {},
     "output_type": "execute_result"
    }
   ],
   "source": [
    "img_labell[24]"
   ]
  },
  {
   "cell_type": "code",
   "execution_count": 3,
   "metadata": {},
   "outputs": [
    {
     "name": "stdout",
     "output_type": "stream",
     "text": [
      "(128,)\n"
     ]
    }
   ],
   "source": [
    "#plt.imshow(img_dataset[24])\n",
    "print(img_dataset[25].shape)"
   ]
  },
  {
   "cell_type": "code",
   "execution_count": 4,
   "metadata": {},
   "outputs": [
    {
     "name": "stdout",
     "output_type": "stream",
     "text": [
      "(78, 128)\n",
      "(78, 2)\n"
     ]
    }
   ],
   "source": [
    "image_size=128\n",
    "def reformat(dataset):\n",
    "    dataset=dataset.reshape((-1,1*image_size)).astype(np.float32)\n",
    "    return dataset\n",
    "train_dataset=reformat(img_dataset)\n",
    "train_labels=img_labell\n",
    "print(train_dataset.shape)\n",
    "print(train_labels.shape)"
   ]
  },
  {
   "cell_type": "code",
   "execution_count": 5,
   "metadata": {},
   "outputs": [
    {
     "name": "stderr",
     "output_type": "stream",
     "text": [
      "/Users/avisheksarkar/anaconda/lib/python3.6/site-packages/h5py/__init__.py:34: FutureWarning: Conversion of the second argument of issubdtype from `float` to `np.floating` is deprecated. In future, it will be treated as `np.float64 == np.dtype(float).type`.\n",
      "  from ._conv import register_converters as _register_converters\n"
     ]
    },
    {
     "name": "stdout",
     "output_type": "stream",
     "text": [
      "WARNING:tensorflow:From <ipython-input-5-dbf5745930c6>:46: softmax_cross_entropy_with_logits (from tensorflow.python.ops.nn_ops) is deprecated and will be removed in a future version.\n",
      "Instructions for updating:\n",
      "\n",
      "Future major versions of TensorFlow will allow gradients to flow\n",
      "into the labels input on backprop by default.\n",
      "\n",
      "See @{tf.nn.softmax_cross_entropy_with_logits_v2}.\n",
      "\n"
     ]
    }
   ],
   "source": [
    "import tensorflow as tf\n",
    "#train_subset=105\n",
    "graph=tf.Graph()\n",
    "hidden_nodes1=80\n",
    "hidden_nodes2=50\n",
    "\n",
    "\n",
    "batch_size=30\n",
    "image_size=128\n",
    "num_classes=train_labels.shape[1]\n",
    "depth=10\n",
    "with graph.as_default():\n",
    "    tf_train_dataset=tf.placeholder(tf.float32,shape=(batch_size,1*image_size))\n",
    "    tf_train_labels=tf.placeholder(tf.float32,shape=(batch_size,num_classes))\n",
    "    \n",
    "    \n",
    "    #tf_valid_dataset=tf.constant(valid_dataset)\n",
    "    #tf_test_dataset=tf.constant(test_dataset)\n",
    "    \n",
    "    weights_l1=tf.Variable(tf.truncated_normal([1*image_size,hidden_nodes1]))\n",
    "    biases_l1=tf.Variable(tf.zeros([hidden_nodes1]))\n",
    "    weights_l2=tf.Variable(tf.truncated_normal([hidden_nodes1,hidden_nodes2]))\n",
    "    biases_l2=tf.Variable(tf.zeros([hidden_nodes2]))\n",
    "    weights_l3=tf.Variable(tf.truncated_normal([hidden_nodes2,num_classes]))\n",
    "    biases_l3=tf.Variable(tf.zeros([num_classes]))\n",
    "    global_step=tf.Variable(0)\n",
    "    learning_rate =tf.train.exponential_decay(0.05, global_step,100, 0.9, staircase=True)\n",
    "    saver = tf.train.Saver(write_version=tf.train.SaverDef.V1)#\n",
    "    \n",
    " #graph structure   \n",
    "    def computation(dataset):\n",
    "        logits_1=tf.matmul(dataset,weights_l1)+biases_l1\n",
    "        logits_1=tf.nn.relu(logits_1)\n",
    "        keep_prob1=tf.placeholder(tf.float32)\n",
    "        drop_out=tf.nn.dropout(logits_1,keep_prob1)\n",
    "        logits_2=tf.matmul(logits_1,weights_l2)+biases_l2\n",
    "       # keep_prob=tf.placeholder(tf.float32)\n",
    "        #drop_out=tf.nn.dropout(logits_2,keep_prob)\n",
    "        logits_2=tf.nn.relu(logits_2)\n",
    "        logits_3=tf.matmul(logits_2,weights_l3)+biases_l3\n",
    "        \n",
    "        return logits_3\n",
    "        \n",
    "        \n",
    "        \n",
    "    loss=tf.reduce_mean(tf.nn.softmax_cross_entropy_with_logits(logits=computation(tf_train_dataset),labels=tf_train_labels)+0.01*(tf.nn.l2_loss(weights_l1)+tf.nn.l2_loss(biases_l1)+tf.nn.l2_loss(weights_l2)\n",
    "                                                                                                                              +tf.nn.l2_loss(biases_l2)+tf.nn.l2_loss(weights_l3)+tf.nn.l2_loss(biases_l3)))          \n",
    "    \n",
    "    optimizer=tf.train.GradientDescentOptimizer(learning_rate).minimize(loss)#,global_step=global_step)\n",
    "    #optimizer=tf.train.AdamOptimizer(learning_rate).minimize(loss)#,global_step=global_step)\n",
    "    train_prediction=tf.nn.softmax(computation(tf_train_dataset))\n",
    "    \n",
    "\n"
   ]
  },
  {
   "cell_type": "code",
   "execution_count": 6,
   "metadata": {},
   "outputs": [
    {
     "name": "stdout",
     "output_type": "stream",
     "text": [
      "initialized\n",
      "loss at  0 : 61.270653\n",
      "training accuracy : 40.0\n",
      "loss at  100 : 49.266445\n",
      "training accuracy : 100.0\n",
      "loss at  200 : 44.58272\n",
      "training accuracy : 100.0\n",
      "loss at  300 : 40.33759\n",
      "training accuracy : 100.0\n",
      "loss at  400 : 36.506573\n",
      "training accuracy : 100.0\n",
      "WARNING:tensorflow:*******************************************************\n",
      "WARNING:tensorflow:TensorFlow's V1 checkpoint format has been deprecated.\n",
      "WARNING:tensorflow:Consider switching to the more efficient V2 format:\n",
      "WARNING:tensorflow:   `tf.train.Saver(write_version=tf.train.SaverDef.V2)`\n",
      "WARNING:tensorflow:now on by default.\n",
      "WARNING:tensorflow:*******************************************************\n",
      "[[0.8301742  0.16982576]]\n",
      "predicted class is:  male\n",
      "[[0.56535906 0.43464088]]\n",
      "predicted class is:  male\n",
      "[[0.4728947  0.52710533]]\n",
      "predicted class is:  woman\n",
      "[[0.9784073  0.02159269]]\n",
      "predicted class is:  male\n",
      "[[0.95153093 0.04846912]]\n",
      "predicted class is:  male\n",
      "[[0.8080397 0.1919603]]\n",
      "predicted class is:  male\n",
      "[[0.9726954  0.02730452]]\n",
      "predicted class is:  male\n"
     ]
    },
    {
     "ename": "KeyboardInterrupt",
     "evalue": "",
     "output_type": "error",
     "traceback": [
      "\u001b[0;31m---------------------------------------------------------------------------\u001b[0m",
      "\u001b[0;31mKeyboardInterrupt\u001b[0m                         Traceback (most recent call last)",
      "\u001b[0;32m<ipython-input-6-3824266144a9>\u001b[0m in \u001b[0;36m<module>\u001b[0;34m()\u001b[0m\n\u001b[1;32m     26\u001b[0m         \u001b[0mgray\u001b[0m \u001b[0;34m=\u001b[0m \u001b[0mcv\u001b[0m\u001b[0;34m.\u001b[0m\u001b[0mcvtColor\u001b[0m\u001b[0;34m(\u001b[0m\u001b[0mframe\u001b[0m\u001b[0;34m,\u001b[0m \u001b[0mcv\u001b[0m\u001b[0;34m.\u001b[0m\u001b[0mCOLOR_BGR2GRAY\u001b[0m\u001b[0;34m)\u001b[0m\u001b[0;34m\u001b[0m\u001b[0m\n\u001b[1;32m     27\u001b[0m         \u001b[0;31m#gray = cv.cvtColor(frame, cv.COLOR_BGR2GRAY)\u001b[0m\u001b[0;34m\u001b[0m\u001b[0;34m\u001b[0m\u001b[0m\n\u001b[0;32m---> 28\u001b[0;31m         \u001b[0mdetected_faces\u001b[0m \u001b[0;34m=\u001b[0m \u001b[0mface_detector\u001b[0m\u001b[0;34m(\u001b[0m\u001b[0mgray\u001b[0m\u001b[0;34m,\u001b[0m \u001b[0;36m1\u001b[0m\u001b[0;34m)\u001b[0m\u001b[0;34m\u001b[0m\u001b[0m\n\u001b[0m\u001b[1;32m     29\u001b[0m         \u001b[0;32mfor\u001b[0m \u001b[0mk\u001b[0m\u001b[0;34m,\u001b[0m\u001b[0md\u001b[0m \u001b[0;32min\u001b[0m \u001b[0menumerate\u001b[0m\u001b[0;34m(\u001b[0m\u001b[0mdetected_faces\u001b[0m\u001b[0;34m)\u001b[0m\u001b[0;34m:\u001b[0m\u001b[0;34m\u001b[0m\u001b[0m\n\u001b[1;32m     30\u001b[0m             \u001b[0mshape\u001b[0m\u001b[0;34m=\u001b[0m\u001b[0mpredictor\u001b[0m\u001b[0;34m(\u001b[0m\u001b[0mgray\u001b[0m\u001b[0;34m,\u001b[0m\u001b[0md\u001b[0m\u001b[0;34m)\u001b[0m\u001b[0;34m\u001b[0m\u001b[0m\n",
      "\u001b[0;31mKeyboardInterrupt\u001b[0m: "
     ]
    }
   ],
   "source": [
    "num_steps=500\n",
    "alpha=['male','woman']\n",
    "def accuracy(prediction,labels):\n",
    "    return (100.0*np.sum(np.argmax(prediction,1)==np.argmax(labels,1)))/prediction.shape[0]\n",
    "\n",
    "with tf.Session(graph=graph) as session:\n",
    "    tf.global_variables_initializer().run()\n",
    "    print('initialized')\n",
    "    \n",
    "    for step in range(num_steps):\n",
    "        offset=(step * batch_size) % (train_labels.shape[0] - batch_size)\n",
    "        batch_dataset=train_dataset[offset:(offset+batch_size),:]\n",
    "        batch_labels=train_labels[offset:(offset+batch_size),:]\n",
    "        feed_dict={tf_train_dataset:batch_dataset, tf_train_labels:batch_labels}\n",
    "       \n",
    "    \n",
    "        _,l,p=session.run([optimizer,loss,train_prediction,],feed_dict=feed_dict)\n",
    "        if(step%100==0):\n",
    "            print(\"loss at \",step,':',l)\n",
    "            print('training accuracy :',accuracy(p,batch_labels))\n",
    "    saver.save(session,'models/test_model2_gender.ckpt')        \n",
    "    cap = cv.VideoCapture(0)\n",
    "    ret,frame=cap.read()\n",
    "    while ret:\n",
    "        ret, frame = cap.read()\n",
    "        gray = cv.cvtColor(frame, cv.COLOR_BGR2GRAY)\n",
    "        #gray = cv.cvtColor(frame, cv.COLOR_BGR2GRAY)\n",
    "        detected_faces = face_detector(gray, 1)\n",
    "        for k,d in enumerate(detected_faces):\n",
    "            shape=predictor(gray,d)\n",
    "            face_descriptor = facerec.compute_face_descriptor(frame,shape )\n",
    "            image_data1=np.array(face_descriptor,dtype=np.float32)\n",
    "            img=image_data1.reshape(1,1*128)\n",
    "            print(tf.nn.softmax(computation(img)).eval())\n",
    "            test=tf.nn.softmax(computation(img)).eval()\n",
    "            index=np.argmax(test)\n",
    "            print(\"predicted class is: \",alpha[index])"
   ]
  },
  {
   "cell_type": "code",
   "execution_count": null,
   "metadata": {
    "collapsed": true
   },
   "outputs": [],
   "source": []
  },
  {
   "cell_type": "code",
   "execution_count": null,
   "metadata": {
    "collapsed": true
   },
   "outputs": [],
   "source": []
  }
 ],
 "metadata": {
  "kernelspec": {
   "display_name": "Python 3",
   "language": "python",
   "name": "python3"
  },
  "language_info": {
   "codemirror_mode": {
    "name": "ipython",
    "version": 3
   },
   "file_extension": ".py",
   "mimetype": "text/x-python",
   "name": "python",
   "nbconvert_exporter": "python",
   "pygments_lexer": "ipython3",
   "version": "3.6.1"
  }
 },
 "nbformat": 4,
 "nbformat_minor": 2
}

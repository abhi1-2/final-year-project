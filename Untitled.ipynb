{
 "cells": [
  {
   "cell_type": "code",
   "execution_count": 1,
   "metadata": {},
   "outputs": [
    {
     "name": "stdout",
     "output_type": "stream",
     "text": [
      "ksp_adult_male\n",
      "ksp_adult_woman\n",
      "(103, 128)\n",
      "(103, 2)\n"
     ]
    }
   ],
   "source": [
    "import os\n",
    "import numpy as np\n",
    "import cv2 as cv\n",
    "import dlib\n",
    "%matplotlib inline\n",
    "import matplotlib.pyplot as plt\n",
    "face_detector = dlib.get_frontal_face_detector()\n",
    "main_path='dataset/gender/'\n",
    "predictor_model=\"shape_predictor_68_face_landmarks.dat\"\n",
    "predictor = dlib.shape_predictor(predictor_model)\n",
    "facerec=dlib.face_recognition_model_v1('dlib_face_recognition_resnet_model_v1.dat')\n",
    "d=os.listdir(main_path)\n",
    "img_array=[]\n",
    "img_labels=[]\n",
    "i=0\n",
    "for i,dirs in enumerate(sorted(d)):\n",
    "    if(dirs.startswith('ksp')):\n",
    "        print(dirs)\n",
    "        for item in (os.listdir(main_path+dirs)):\n",
    "            label=[0,0]\n",
    "            if(item.endswith('.jpg')):\n",
    "                img=cv.imread(main_path+dirs+'/'+item)\n",
    "                gray = cv.cvtColor(img, cv.COLOR_BGR2GRAY)\n",
    "                \n",
    "                face_rect= face_detector(gray, 1)\n",
    "                \n",
    "                \n",
    "                for k,d in enumerate(face_rect):\n",
    "                    \n",
    "                    #x = d.left()\n",
    "                    #y = d.top()\n",
    "                    #w = d.right()-x\n",
    "                    #h = d.bottom()-y\n",
    "                    shape=predictor(gray,d)\n",
    "                    face_descriptor = facerec.compute_face_descriptor(img,shape )\n",
    "                #rect=cv.rectangle(img, (x, y), (x + w, y + h), (0, 255, 0), 2)\n",
    "                #rect = img[y:y+h,x:x+w]\n",
    "                label[i-1]=1\n",
    "                img_array.append(face_descriptor)\n",
    "                img_labels.append(label)\n",
    "                    \n",
    "                    \n",
    "                #face_rect = face_detector(img, 1)\n",
    "\n",
    "img_dataset=np.array(img_array)\n",
    "img_labell=np.array(img_labels)\n",
    "print(img_dataset.shape)\n",
    "print(img_labell.shape)"
   ]
  },
  {
   "cell_type": "code",
   "execution_count": 69,
   "metadata": {},
   "outputs": [],
   "source": [
    "from keras.models import Sequential\n",
    "from keras.layers import Dense\n",
    "from keras import optimizers\n",
    "model = Sequential()\n",
    "model.add(Dense(128, input_dim=128, activation='sigmoid'))\n",
    "model.add(Dense(128, activation='sigmoid'))\n",
    "model.add(Dense(2, activation='softmax'))\n",
    "#sgd = optimizers.SGD(lr=0.05, decay=0.9)\n",
    "model.compile(loss='binary_crossentropy', optimizer='adam', metrics=['accuracy'])"
   ]
  },
  {
   "cell_type": "code",
   "execution_count": 70,
   "metadata": {},
   "outputs": [
    {
     "name": "stdout",
     "output_type": "stream",
     "text": [
      "Epoch 1/5\n",
      "103/103 [==============================] - 0s - loss: 0.6966 - acc: 0.5049     \n",
      "Epoch 2/5\n",
      "103/103 [==============================] - 0s - loss: 0.6889 - acc: 0.5340     \n",
      "Epoch 3/5\n",
      "103/103 [==============================] - 0s - loss: 0.6962 - acc: 0.4951     \n",
      "Epoch 4/5\n",
      "103/103 [==============================] - 0s - loss: 0.7071 - acc: 0.4078     \n",
      "Epoch 5/5\n",
      "103/103 [==============================] - 0s - loss: 0.6793 - acc: 0.5534     \n"
     ]
    },
    {
     "data": {
      "text/plain": [
       "<keras.callbacks.History at 0x13079e6d8>"
      ]
     },
     "execution_count": 70,
     "metadata": {},
     "output_type": "execute_result"
    }
   ],
   "source": [
    "model.fit(img_dataset, img_labell, epochs=5, shuffle=True,batch_size=20)"
   ]
  },
  {
   "cell_type": "code",
   "execution_count": 9,
   "metadata": {},
   "outputs": [
    {
     "name": "stdout",
     "output_type": "stream",
     "text": [
      "[[0.8601719  0.13982812]]\n",
      "[[0.9109339  0.08906612]]\n",
      "[[0.875115   0.12488504]]\n",
      "[[0.8916749  0.10832512]]\n",
      "[[0.90529984 0.09470019]]\n",
      "[[0.9031964  0.09680365]]\n",
      "[[0.9062401  0.09375987]]\n",
      "[[0.90976435 0.09023557]]\n",
      "[[0.92043215 0.0795678 ]]\n",
      "[[0.9090642  0.09093586]]\n",
      "[[0.90357083 0.09642912]]\n",
      "[[0.9153633  0.08463674]]\n",
      "[[0.9235982  0.07640187]]\n",
      "[[0.9016411  0.09835894]]\n",
      "[[0.8984982  0.10150188]]\n",
      "[[0.8973397  0.10266032]]\n"
     ]
    },
    {
     "ename": "KeyboardInterrupt",
     "evalue": "",
     "output_type": "error",
     "traceback": [
      "\u001b[0;31m---------------------------------------------------------------------------\u001b[0m",
      "\u001b[0;31mKeyboardInterrupt\u001b[0m                         Traceback (most recent call last)",
      "\u001b[0;32m<ipython-input-9-5f2bec4aa57d>\u001b[0m in \u001b[0;36m<module>\u001b[0;34m()\u001b[0m\n\u001b[1;32m      7\u001b[0m \u001b[0;31m#image=cv.imread(image)\u001b[0m\u001b[0;34m\u001b[0m\u001b[0;34m\u001b[0m\u001b[0m\n\u001b[1;32m      8\u001b[0m \u001b[0;31m#gray = cv.cvtColor(image, cv.COLOR_BGR2GRAY)\u001b[0m\u001b[0;34m\u001b[0m\u001b[0;34m\u001b[0m\u001b[0m\n\u001b[0;32m----> 9\u001b[0;31m     \u001b[0mdetected_faces\u001b[0m \u001b[0;34m=\u001b[0m \u001b[0mface_detector\u001b[0m\u001b[0;34m(\u001b[0m\u001b[0mgray\u001b[0m\u001b[0;34m,\u001b[0m \u001b[0;36m1\u001b[0m\u001b[0;34m)\u001b[0m\u001b[0;34m\u001b[0m\u001b[0m\n\u001b[0m\u001b[1;32m     10\u001b[0m     \u001b[0;32mif\u001b[0m\u001b[0;34m(\u001b[0m\u001b[0mdetected_faces\u001b[0m\u001b[0;34m)\u001b[0m\u001b[0;34m:\u001b[0m\u001b[0;34m\u001b[0m\u001b[0m\n\u001b[1;32m     11\u001b[0m         \u001b[0;32mfor\u001b[0m \u001b[0mi\u001b[0m\u001b[0;34m,\u001b[0m\u001b[0mface_rect\u001b[0m \u001b[0;32min\u001b[0m \u001b[0menumerate\u001b[0m\u001b[0;34m(\u001b[0m\u001b[0mdetected_faces\u001b[0m\u001b[0;34m)\u001b[0m\u001b[0;34m:\u001b[0m\u001b[0;34m\u001b[0m\u001b[0m\n",
      "\u001b[0;31mKeyboardInterrupt\u001b[0m: "
     ]
    }
   ],
   "source": [
    "cap = cv.VideoCapture(0)\n",
    "ret,frame=cap.read()\n",
    "while ret:\n",
    "    ret, frame = cap.read()\n",
    "    gray = cv.cvtColor(frame, cv.COLOR_BGR2GRAY)\n",
    "#image=os.getcwd()+'/test_images/srija_test.jpeg'\n",
    "#image=cv.imread(image)\n",
    "#gray = cv.cvtColor(image, cv.COLOR_BGR2GRAY)\n",
    "    detected_faces = face_detector(gray, 1)\n",
    "    if(detected_faces):\n",
    "        for i,face_rect in enumerate(detected_faces):\n",
    "            shape=predictor(gray,face_rect)\n",
    "            face_descriptor = facerec.compute_face_descriptor(frame,shape)\n",
    "            face_descriptor=np.array(face_descriptor)\n",
    "            face_descriptor=face_descriptor.reshape((-1,1*128)).astype(np.float32)\n",
    "            print(model.predict(face_descriptor))"
   ]
  },
  {
   "cell_type": "code",
   "execution_count": 77,
   "metadata": {},
   "outputs": [
    {
     "name": "stdout",
     "output_type": "stream",
     "text": [
      "[[0.46856803 0.5314319 ]]\n"
     ]
    }
   ],
   "source": [
    "image=os.getcwd()+'/test_images/female_1.jpeg'\n",
    "image=cv.imread(image)\n",
    "gray = cv.cvtColor(image, cv.COLOR_BGR2GRAY)\n",
    "detected_faces = face_detector(gray, 1)\n",
    "if(detected_faces):\n",
    "    for i,face_rect in enumerate(detected_faces):\n",
    "        shape=predictor(gray,face_rect)\n",
    "        face_descriptor = facerec.compute_face_descriptor(frame,shape)\n",
    "        face_descriptor=np.array(face_descriptor)\n",
    "        face_descriptor=np.array(face_descriptor.reshape((-1,1*128)).astype(np.float32))\n",
    "        print(model.predict(face_descriptor))"
   ]
  },
  {
   "cell_type": "code",
   "execution_count": null,
   "metadata": {},
   "outputs": [],
   "source": [
    "\n"
   ]
  },
  {
   "cell_type": "code",
   "execution_count": null,
   "metadata": {
    "collapsed": true
   },
   "outputs": [],
   "source": []
  }
 ],
 "metadata": {
  "kernelspec": {
   "display_name": "Python 3",
   "language": "python",
   "name": "python3"
  },
  "language_info": {
   "codemirror_mode": {
    "name": "ipython",
    "version": 3
   },
   "file_extension": ".py",
   "mimetype": "text/x-python",
   "name": "python",
   "nbconvert_exporter": "python",
   "pygments_lexer": "ipython3",
   "version": "3.6.1"
  }
 },
 "nbformat": 4,
 "nbformat_minor": 2
}
